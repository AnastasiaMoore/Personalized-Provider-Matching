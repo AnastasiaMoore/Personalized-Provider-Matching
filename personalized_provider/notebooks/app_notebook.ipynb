{
 "cells": [
  {
   "cell_type": "code",
   "execution_count": null,
   "metadata": {},
   "outputs": [],
   "source": [
    "# This code block is for Jupyter Notebook or IPython only.\n",
    "import pandas as pd\n",
    "import sys\n",
    "\n",
    "from pathlib import Path\n",
    "\n",
    "# Add the src directory to the Python path\n",
    "sys.path.append(str(Path(__file__).parent.parent / \"src\"))\n",
    "\n",
    "# Now you can import from src\n",
    "from cleaning import clean_dataset\n",
    "\n",
    "# Adapt the file path for the Jupyter Notebook environment.\n",
    "csv_file_path = './data/raw/providers_data_messy.csv'  # Adjust the path as necessary.\n",
    "\n",
    "# Load the data\n",
    "data = pd.read_csv(csv_file_path)\n",
    "\n",
    "# Clean the data\n",
    "cleaned_data = clean_dataset(data)\n",
    "\n",
    "# Now you can work with cleaned_data as you like.\n"
   ]
  },
  {
   "cell_type": "code",
   "execution_count": null,
   "metadata": {},
   "outputs": [],
   "source": []
  }
 ],
 "metadata": {
  "language_info": {
   "name": "python"
  },
  "orig_nbformat": 4
 },
 "nbformat": 4,
 "nbformat_minor": 2
}
