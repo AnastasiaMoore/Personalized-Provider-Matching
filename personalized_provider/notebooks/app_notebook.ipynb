{
 "cells": [
  {
   "cell_type": "code",
   "execution_count": null,
   "metadata": {},
   "outputs": [],
   "source": [
    "import sys\n",
    "\n",
    "from pathlib import Path\n",
    "\n",
    "# Add the src directory to the Python path\n",
    "sys.path.append(str(Path(__file__).parent.parent / \"src\"))\n",
    "\n",
    "# Now you can import from src\n",
    "from cleaning import clean_dataset\n",
    "from analysis import perform_analysis\n",
    "from modeling import build_model\n",
    "import os\n",
    "\n",
    "import streamlit as st\n",
    "import pandas as pd\n",
    "import numpy as np\n",
    "# Import other necessary modules\n",
    "\n",
    "# Load the dataset\n",
    "@st.cache\n",
    "def load_data():\n",
    "    # Use an absolute path to locate the CSV file\n",
    "    current_dir = os.path.dirname(os.path.abspath(__file__))\n",
    "    csv_file_path = os.path.join(current_dir, '..', 'data', 'raw', 'providers_data_messy.csv')\n",
    "\n",
    "    data = pd.read_csv(csv_file_path)\n",
    "    return data\n",
    "\n",
    "# Load the dataset\n",
    "data = load_data()  \n",
    "\n",
    "@st.cache\n",
    "def get_cleaned_data():\n",
    "    \"\"\"\n",
    "    Load, clean, and return the dataset ready for analysis and modeling.\n",
    "    \n",
    "    The function uses caching to avoid re-loading and re-cleaning the data\n",
    "    each time the Streamlit app is refreshed.\n",
    "    \n",
    "    Returns:\n",
    "        DataFrame: The cleaned dataset.\n",
    "    \"\"\"\n",
    "    # Load the dataset\n",
    "    data = load_data()  # load_data() is called here\n",
    "\n",
    "    # Clean the dataset using the clean_dataset function from the cleaning module\n",
    "    cleaned_data = clean_dataset(data)  # clean_dataset() is called here with the loaded data\n",
    "\n",
    "    return cleaned_data\n",
    "\n",
    "# No need to pass 'data' since 'get_cleaned_data' will call 'load_data()' within it\n",
    "cleaned_data = get_cleaned_data()"
   ]
  },
  {
   "cell_type": "code",
   "execution_count": null,
   "metadata": {},
   "outputs": [],
   "source": []
  }
 ],
 "metadata": {
  "language_info": {
   "name": "python"
  },
  "orig_nbformat": 4
 },
 "nbformat": 4,
 "nbformat_minor": 2
}
